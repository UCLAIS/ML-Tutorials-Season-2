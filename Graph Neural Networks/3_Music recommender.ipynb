{
 "cells": [
  {
   "cell_type": "markdown",
   "id": "0a5a7834",
   "metadata": {},
   "source": [
    "# Music recommender\n",
    "\n",
    "So far, we discussed the main principles and steps involved in building vanilla GNN. In this notebook, we are going to analyse, such basic architecture can be expanded to build a music recommender system.\n",
    "\n",
    "### Dataset\n",
    "In this practical, we are going to use LightGCN for [Spotify Million Playlist Dataset Challenge](https://www.aicrowd.com/challenges/spotify-million-playlist-dataset-challenge). This dataset contains 1 million playlists created by users on the Spotify between 2010 and 2017. Due to large size, we will only use part of the dataset.\n",
    "\n",
    "In short, our goal is to recommend songs that should be added to each playlist.\n",
    "\n",
    "### Model\n",
    "\n",
    "As we have learned in the previous notebook, GNNs learn by updating node embeddings based on the near node and, later on, global graph information.\n",
    "\n",
    "GNN multilayer structure functions in three main steps:\n",
    "1. Each neighbour passes its embedding to the node (**message**)\n",
    "2. Messages are then **aggregated** to obtain a single embedding\n",
    "3. Taking previous embedding and combining with the current aggregated embedding to update the node\n",
    "\n",
    "#### LightGCN\n",
    "\n",
    "For this particular problem, we are going to use LightGCN architecture and collaborative filtering approach. They key idea of LightGCN is that the only learned parameters are in the initial layer of each node. In other words, we are only updating the start layer using the further layer information which increases speed.\n",
    "\n",
    "To make final predictions, we are going to take an average of the embeddings at each layer.\n",
    "\n",
    "## Implementation\n",
    "\n",
    "In contrast to the previous examples, our music recommender system model will be implemented in Pytorch rather than Keras (only recently introduced GNNs).\n",
    "\n",
    "#### Setting Up"
   ]
  },
  {
   "cell_type": "code",
   "execution_count": 4,
   "id": "478e515a",
   "metadata": {
    "collapsed": true
   },
   "outputs": [
    {
     "name": "stdout",
     "output_type": "stream",
     "text": [
      "Looking in links: https://data.pyg.org/whl/torch-1.10.0+cu111.html\n",
      "Collecting torch-scatter\n",
      "  Downloading https://data.pyg.org/whl/torch-1.10.0%2Bcu113/torch_scatter-2.0.9-cp39-cp39-win_amd64.whl (7.8 MB)\n",
      "     ---------------------------------------- 7.8/7.8 MB 4.1 MB/s eta 0:00:00\n",
      "Installing collected packages: torch-scatter\n",
      "Successfully installed torch-scatter-2.0.9\n"
     ]
    },
    {
     "name": "stderr",
     "output_type": "stream",
     "text": [
      "WARNING: You are using pip version 22.0; however, version 22.0.3 is available.\n",
      "You should consider upgrading via the 'C:\\Users\\marty\\anaconda3\\envs\\ai_learning\\python.exe -m pip install --upgrade pip' command.\n",
      "WARNING: You are using pip version 22.0; however, version 22.0.3 is available.\n",
      "You should consider upgrading via the 'C:\\Users\\marty\\anaconda3\\envs\\ai_learning\\python.exe -m pip install --upgrade pip' command.\n"
     ]
    },
    {
     "name": "stdout",
     "output_type": "stream",
     "text": [
      "Looking in links: https://data.pyg.org/whl/torch-1.10.0+cu111.html\n",
      "Collecting torch-sparse\n",
      "  Downloading https://data.pyg.org/whl/torch-1.10.0%2Bcu113/torch_sparse-0.6.12-cp39-cp39-win_amd64.whl (3.8 MB)\n",
      "     ---------------------------------------- 3.8/3.8 MB 3.2 MB/s eta 0:00:00\n",
      "Requirement already satisfied: scipy in c:\\users\\marty\\anaconda3\\envs\\ai_learning\\lib\\site-packages (from torch-sparse) (1.7.0)\n",
      "Requirement already satisfied: numpy<1.23.0,>=1.16.5 in c:\\users\\marty\\appdata\\roaming\\python\\python39\\site-packages (from scipy->torch-sparse) (1.19.5)\n",
      "Installing collected packages: torch-sparse\n",
      "Successfully installed torch-sparse-0.6.12\n"
     ]
    }
   ],
   "source": [
    "!pip install torch-scatter -f https://data.pyg.org/whl/torch-1.10.0+cu111.html\n",
    "!pip install torch-sparse -f https://data.pyg.org/whl/torch-1.10.0+cu111.html\n",
    "    \n",
    "#Downloading data from the original source\n",
    "! wget https://raw.githubusercontent.com/ba305/LightGCN-Spotify/main/data/dataset_large/data_object.pt\n",
    "! wget https://raw.githubusercontent.com/ba305/LightGCN-Spotify/main/data/dataset_large/dataset_stats.json\n",
    "! wget https://raw.githubusercontent.com/ba305/LightGCN-Spotify/main/data/dataset_large/song_info.json\n",
    "! wget https://raw.githubusercontent.com/ba305/LightGCN-Spotify/main/data/dataset_large/playlist_info.json"
   ]
  },
  {
   "cell_type": "code",
   "execution_count": 32,
   "id": "68992d18",
   "metadata": {},
   "outputs": [],
   "source": [
    "#Importing required libraries\n",
    "import json\n",
    "import numpy as np\n",
    "import os\n",
    "import torch\n",
    "from torch_geometric import seed_everything\n",
    "from torch_geometric.data import Data, Dataset\n",
    "from torch_geometric.loader import DataLoader\n",
    "from torch_geometric.nn import MessagePassing\n",
    "from torch_geometric.transforms import RandomLinkSplit\n",
    "from torch_geometric.utils import degree\n",
    "import matplotlib.pyplot as plt\n",
    "from matplotlib import animation, rc\n",
    "from sklearn.decomposition import PCA\n",
    "from IPython.display import HTML\n",
    "import matplotlib\n",
    "\n",
    "seed_everything(5)"
   ]
  },
  {
   "cell_type": "markdown",
   "id": "8a1222f0",
   "metadata": {},
   "source": [
    "#### Loading data\n",
    "\n",
    "As we have mentioned previously, we are going to use only a part of the whole 33GB dataset. For the simplicity reasons, we are also going to use pre-processed data taken from original repository [link](https://github.com/ba305/LightGCN-Spotify).\n",
    "\n",
    "In short, the original dataset has been reduced by setting the maximum number of degrees for each node. This also allows to eliminate rare songs."
   ]
  },
  {
   "cell_type": "code",
   "execution_count": 2,
   "id": "a065b628",
   "metadata": {},
   "outputs": [],
   "source": [
    "# Load data\n",
    "base_dir = \".\"\n",
    "data = torch.load(os.path.join(base_dir, \"data_object.pt\"))\n",
    "with open(os.path.join(base_dir, \"dataset_stats.json\"), 'r') as f:\n",
    "    stats = json.load(f)\n",
    "num_playlists, num_nodes = stats[\"num_playlists\"], stats[\"num_nodes\"]"
   ]
  },
  {
   "cell_type": "markdown",
   "id": "8a856374",
   "metadata": {},
   "source": [
    "#### Data splitting\n",
    "\n",
    "Data in graphs is highly correlated and dependent, therefore, data splitting is especially important in graph problems. As we are predicting edge rather than nodes, we are going to split by edges instead of nodes.\n",
    "\n",
    "In short, we will have two types of edges - message passing edges performing propagation and evaluation edges for calculating loss metrics.\n",
    "\n",
    "Therefore, if we are going to have train-test-validation sets, we will have 6 rather than 3 splits as each set will have propagation and supervision splits."
   ]
  },
  {
   "cell_type": "code",
   "execution_count": 3,
   "id": "d520533e",
   "metadata": {},
   "outputs": [],
   "source": [
    "#Splitting into train/validation/test\n",
    "transform = RandomLinkSplit(is_undirected=True, add_negative_train_samples=False, neg_sampling_ratio=0,\n",
    "                            num_val=0.15, num_test=0.15)\n",
    "train_split, val_split, test_split = transform(data)\n",
    "assert train_split.num_nodes == val_split.num_nodes and train_split.num_nodes == test_split.num_nodes"
   ]
  },
  {
   "cell_type": "markdown",
   "id": "4dd7a869",
   "metadata": {},
   "source": [
    "In addition to splitting our dataset, we also need to format it into batches that could be fed into model. For this, we are going to used a custom Pytorch function."
   ]
  },
  {
   "cell_type": "code",
   "execution_count": 5,
   "id": "a218cad4",
   "metadata": {},
   "outputs": [],
   "source": [
    "#Custom data class for PYG\n",
    "class PlainData(Data):\n",
    "    def __inc__(self, key, value, *args, **kwargs):\n",
    "        return 0\n",
    "    \n",
    "\n",
    "#Dataset containing spotify data\n",
    "class SpotifyDataset(Dataset):\n",
    "    \n",
    "    def __init__(self, root, edge_index, transform=None, pre_transform=None):\n",
    "        self.edge_index = edge_index\n",
    "        self.unique_idxs = torch.unique(edge_index[0,:]).tolist() # playlists will all be in row 0, b/c sorted by RandLinkSplit\n",
    "        self.num_nodes = len(self.unique_idxs)\n",
    "        super().__init__(root, transform, pre_transform)\n",
    "\n",
    "    def len(self):\n",
    "        return self.num_nodes\n",
    "\n",
    "    def get(self, idx): # returns all outgoing edges associated with playlist idx\n",
    "        edge_index = self.edge_index[:, self.edge_index[0,:] == idx]\n",
    "        return PlainData(edge_index=edge_index)"
   ]
  },
  {
   "cell_type": "markdown",
   "id": "d080faa3",
   "metadata": {},
   "source": [
    "Splitting and formating data into batch datasets."
   ]
  },
  {
   "cell_type": "code",
   "execution_count": 6,
   "id": "a78b133e",
   "metadata": {},
   "outputs": [],
   "source": [
    "#Constructing datasets using previously described custom functions\n",
    "train_ev = SpotifyDataset('temp', edge_index=train_split.edge_label_index)\n",
    "train_mp = Data(edge_index=train_split.edge_index)\n",
    "\n",
    "val_ev = SpotifyDataset('temp', edge_index=val_split.edge_label_index)\n",
    "val_mp = Data(edge_index=val_split.edge_index)\n",
    "\n",
    "test_ev = SpotifyDataset('temp', edge_index=test_split.edge_label_index)    \n",
    "test_mp = Data(edge_index=test_split.edge_index)"
   ]
  },
  {
   "cell_type": "markdown",
   "id": "f827a297",
   "metadata": {},
   "source": [
    "#### Model\n",
    "\n",
    "As we mentioned in the introduction, we are going to use PyG library to create custom GNN layers needed for LightGCN architecture. Overall, the model will have **two parts**.\n",
    "\n",
    "The **first class** will define a single **LightGCN** propagation layer. Within this class we will make changes in the default message, aggregate, update and propagate methods. In short, these methods can be described in the following way.\n",
    "- **message** - defines information sharing between the neighboring nodes\n",
    "- **aggregate** - method which we use to combine messages\n",
    "- **update** - defining the update rule\n",
    "- **propagate** - calls the previous three functions to output a matrix of updated node embeddings\n",
    "- **forward** - main function which allows to preprocess node embeddings\n",
    "\n",
    "We are not going to change aggregate function as we need default addition function. Same happens with the update method. For message and forward functions, we are only going to introduce normalisation (used in the original paper): forward function will be responsible for calculating the normalisation value, while message will normalise values using this factor."
   ]
  },
  {
   "cell_type": "code",
   "execution_count": 8,
   "id": "ce30c0e7",
   "metadata": {},
   "outputs": [],
   "source": [
    "# PART 1\n",
    "class LightGCN(MessagePassing):\n",
    "\n",
    "    def __init__(self):\n",
    "        super(LightGCN, self).__init__(aggr='add') # aggregation function is 'add\n",
    "\n",
    "    def message(self, x_j, norm):\n",
    "        # Here we are just multiplying the x_j's by the normalization terms (using some broadcasting)\n",
    "        return norm.view(-1, 1) * x_j\n",
    "\n",
    "    def forward(self, x, edge_index):\n",
    "\n",
    "        # Computing node degrees for normalization term in LightGCN (see LightGCN paper for details on this normalization term)\n",
    "        # These will be used during message passing, to normalize each neighbor's embedding before passing it as a message\n",
    "        row, col = edge_index\n",
    "        deg = degree(col)\n",
    "        deg_inv_sqrt = deg.pow(-0.5)\n",
    "        norm = deg_inv_sqrt[row] * deg_inv_sqrt[col]\n",
    "\n",
    "        # Begin propagation. Will perform message passing and aggregation and return updated node embeddings.\n",
    "        return self.propagate(edge_index, x=x, norm=norm)"
   ]
  },
  {
   "cell_type": "markdown",
   "id": "11ca2f34",
   "metadata": {},
   "source": [
    "The second class will define the main GNN that will use multiple LightGCN layers we have just defined. In short, main class functions in the following manner:\n",
    "- We use ```nn.Embedding()``` to store learned embeddings\n",
    "- Multi-scale embeddings are calculated using ```gnn_propagation()``` function\n",
    "- Main training logic is defined in ```calc_loss()``` function that calculates Bayesian Personalized Ranking (BPR) loss that is commonly used in the recommendation problems"
   ]
  },
  {
   "cell_type": "code",
   "execution_count": 9,
   "id": "366813d5",
   "metadata": {},
   "outputs": [],
   "source": [
    "# PART 2\n",
    "class GNN(torch.nn.Module):\n",
    "\n",
    "    def __init__(self, embedding_dim, num_nodes, num_playlists, num_layers):\n",
    "        super(GNN, self).__init__()\n",
    "\n",
    "        self.embedding_dim = embedding_dim\n",
    "        self.num_nodes = num_nodes         # total number of nodes (songs + playlists) in dataset\n",
    "        self.num_playlists = num_playlists # total number of playlists in dataset\n",
    "        self.num_layers = num_layers\n",
    "\n",
    "        # Initialize embeddings for all playlists and songs. Playlists will have indices from 0...num_playlists-1,\n",
    "        # songs will have indices from num_playlists...num_nodes-1\n",
    "        self.embeddings = torch.nn.Embedding(num_embeddings=self.num_nodes, embedding_dim=self.embedding_dim)\n",
    "        torch.nn.init.normal_(self.embeddings.weight, std=0.1)\n",
    "\n",
    "        self.layers = torch.nn.ModuleList() # LightGCN layers\n",
    "        for _ in range(self.num_layers):\n",
    "            self.layers.append(LightGCN())\n",
    "\n",
    "        self.sigmoid = torch.sigmoid\n",
    "\n",
    "    def forward(self):\n",
    "        raise NotImplementedError(\"forward() has not been implemented for the GNN class. Do not use\")\n",
    "\n",
    "    def gnn_propagation(self, edge_index_mp):\n",
    "\n",
    "        x = self.embeddings.weight        # layer-0 embeddings\n",
    "\n",
    "        x_at_each_layer = [x]             # stores embeddings from each layer. Start with layer-0 embeddings\n",
    "        for i in range(self.num_layers):  # now performing the GNN propagation\n",
    "            x = self.layers[i](x, edge_index_mp)\n",
    "            x_at_each_layer.append(x)\n",
    "        final_embs = torch.stack(x_at_each_layer, dim=0).mean(dim=0) # take average to calculate multi-scale embeddings\n",
    "        return final_embs\n",
    "\n",
    "    def predict_scores(self, edge_index, embs):\n",
    "\n",
    "        scores = embs[edge_index[0,:], :] * embs[edge_index[1,:], :] # taking dot product for each playlist/song pair\n",
    "        scores = scores.sum(dim=1)\n",
    "        scores = self.sigmoid(scores)\n",
    "        return scores\n",
    "\n",
    "    def calc_loss(self, data_mp, data_pos, data_neg):\n",
    "\n",
    "        # Perform GNN propagation on message passing edges to get final embeddings\n",
    "        final_embs = self.gnn_propagation(data_mp.edge_index)\n",
    "\n",
    "        # Get edge prediction scores for all positive and negative evaluation edges\n",
    "        pos_scores = self.predict_scores(data_pos.edge_index, final_embs)\n",
    "        neg_scores = self.predict_scores(data_neg.edge_index, final_embs)\n",
    "\n",
    "        # Calculate loss (using variation of Bayesian Personalized Ranking loss, similar to the one used in official\n",
    "        loss = -torch.log(self.sigmoid(pos_scores - neg_scores)).mean()\n",
    "        return loss\n",
    "\n",
    "    def evaluation(self, data_mp, data_pos, k):\n",
    "\n",
    "        # Run propagation on the message-passing edges to get multi-scale embeddings\n",
    "        final_embs = self.gnn_propagation(data_mp.edge_index)\n",
    "\n",
    "        # Get embeddings of all unique playlists in the batch of evaluation edges\n",
    "        unique_playlists = torch.unique_consecutive(data_pos.edge_index[0,:])\n",
    "        playlist_emb = final_embs[unique_playlists, :] # has shape [number of playlists in batch, 64]\n",
    "        \n",
    "        # Get embeddings of ALL songs in dataset\n",
    "        song_emb = final_embs[self.num_playlists:, :] # has shape [total number of songs in dataset, 64]\n",
    "\n",
    "        # All ratings for each playlist in batch to each song in entire dataset (using dot product as the scoring function)\n",
    "        ratings = self.sigmoid(torch.matmul(playlist_emb, song_emb.t())) # shape: [# playlists in batch, # songs in dataset]\n",
    "                                                                         # where entry i,j is rating of song j for playlist i\n",
    "        # Calculate recall@k\n",
    "        result = recall_at_k(ratings.cpu(), k, self.num_playlists, data_pos.edge_index.cpu(), \n",
    "                             unique_playlists.cpu(), data_mp.edge_index.cpu())\n",
    "        return result"
   ]
  },
  {
   "cell_type": "markdown",
   "id": "94f94591",
   "metadata": {},
   "source": [
    "#### Additional functions\n",
    "\n",
    "Finally, we need a few additional functions for calculating the recall@k loss function (ratio between meaningful recommendations and all relevant possible recommendations) that we are using in the evaluation function as well as BPR loss function."
   ]
  },
  {
   "cell_type": "code",
   "execution_count": 10,
   "id": "a8991093",
   "metadata": {},
   "outputs": [],
   "source": [
    "#Defining loss function\n",
    "def recall_at_k(all_ratings, k, num_playlists, ground_truth, unique_playlists, data_mp):\n",
    "   # We don't want to recommend songs that are already known to be in the playlist! \n",
    "   # Set those to a low rating so they won't be recommended\n",
    "   known_edges = data_mp[:, data_mp[0,:] < num_playlists] # removing duplicate edges (since data_mp is undirected). also makes it so\n",
    "                                                          # that for each column, playlist idx is in row 0 and song idx is in row 1\n",
    "   playlist_to_idx_in_batch = {playlist: i for i, playlist in enumerate(unique_playlists.tolist())}\n",
    "   exclude_playlists, exclude_songs = [], [] # already-known playlist/song links. Don't want to recommend these again\n",
    "   for i in range(known_edges.shape[1]): # looping over all known edges\n",
    "      pl, song = known_edges[:,i].tolist()\n",
    "      if pl in playlist_to_idx_in_batch: # don't need the edges in data_mp that are from playlists that are not in this batch\n",
    "         exclude_playlists.append(playlist_to_idx_in_batch[pl])\n",
    "         exclude_songs.append(song - num_playlists) # subtract num_playlists to get indexing into all_ratings correct\n",
    "   all_ratings[exclude_playlists, exclude_songs] = -10000 # setting to a very low score so they won't be recommended\n",
    "\n",
    "   # Get top k recommendations for each playlist\n",
    "   _, top_k = torch.topk(all_ratings, k=k, dim=1)\n",
    "   top_k += num_playlists # topk returned indices of songs in ratings, which doesn't include playlists.\n",
    "                          # Need to shift up by num_playlists to get the actual song indices\n",
    "    \n",
    "   # Calculate recall@k\n",
    "   ret = {}\n",
    "   for i, playlist in enumerate(unique_playlists):\n",
    "      pos_songs = ground_truth[1, ground_truth[0, :] == playlist]\n",
    "\n",
    "      k_recs = top_k[i, :] # top k recommendations for playlist\n",
    "      recall = len(np.intersect1d(pos_songs, k_recs)) / len(pos_songs)\n",
    "      ret[playlist] = recall\n",
    "   return ret"
   ]
  },
  {
   "cell_type": "code",
   "execution_count": 11,
   "id": "78ce46d8",
   "metadata": {},
   "outputs": [],
   "source": [
    "def sample_negative_edges(batch, num_playlists, num_nodes):\n",
    "\n",
    "    negs = []\n",
    "    for i in batch.edge_index[0,:]:  # looping over playlists\n",
    "        assert i < num_playlists     # just ensuring that i is a playlist\n",
    "        rand = torch.randint(num_playlists, num_nodes, (1,))  # randomly sample a song\n",
    "        negs.append(rand.item())\n",
    "    edge_index_negs = torch.row_stack([batch.edge_index[0,:], torch.LongTensor(negs)])\n",
    "    return Data(edge_index=edge_index_negs)"
   ]
  },
  {
   "cell_type": "markdown",
   "id": "e707bde3",
   "metadata": {},
   "source": [
    "#### Training model\n",
    "\n",
    "Lastly, before the training and evaluation we need to define train and test loops. The main difference between these two functions is that ```train()``` is going to calculate BPR as a loss and backpropagate it, while ```test()``` will only calculate recall@k without backpropagation."
   ]
  },
  {
   "cell_type": "code",
   "execution_count": 12,
   "id": "880b472e",
   "metadata": {},
   "outputs": [],
   "source": [
    "## Train model\n",
    "def train(model, data_mp, loader, opt, num_playlists, num_nodes, device):\n",
    "\n",
    "    total_loss = 0\n",
    "    total_examples = 0\n",
    "    model.train()\n",
    "    for batch in loader:\n",
    "        del batch.batch; del batch.ptr # delete unwanted attributes\n",
    "        \n",
    "        opt.zero_grad()\n",
    "        negs = sample_negative_edges(batch, num_playlists, num_nodes)  # sample negative edges\n",
    "        data_mp, batch, negs = data_mp.to(device), batch.to(device), negs.to(device)\n",
    "        loss = model.calc_loss(data_mp, batch, negs)\n",
    "        loss.backward()\n",
    "        opt.step()\n",
    "\n",
    "        num_examples = batch.edge_index.shape[1]\n",
    "        total_loss += loss.item() * num_examples\n",
    "        total_examples += num_examples\n",
    "    avg_loss = total_loss / total_examples\n",
    "    return avg_loss"
   ]
  },
  {
   "cell_type": "code",
   "execution_count": 13,
   "id": "910da06d",
   "metadata": {},
   "outputs": [],
   "source": [
    "def test(model, data_mp, loader, k, device, save_dir, epoch):\n",
    "\n",
    "    model.eval()\n",
    "    all_recalls = {}\n",
    "    with torch.no_grad():\n",
    "        # Save multi-scale embeddings if save_dir is not None\n",
    "        data_mp = data_mp.to(device)\n",
    "        if save_dir is not None:\n",
    "            embs_to_save = gnn.gnn_propagation(data_mp.edge_index)\n",
    "            torch.save(embs_to_save, os.path.join(save_dir, f\"embeddings_epoch_{epoch}.pt\"))\n",
    "\n",
    "        # Run evaluation\n",
    "        for batch in loader:\n",
    "            del batch.batch; del batch.ptr # delete unwanted attributes\n",
    "\n",
    "            batch = batch.to(device)\n",
    "            recalls = model.evaluation(data_mp, batch, k)\n",
    "            for playlist_idx in recalls:\n",
    "                assert playlist_idx not in all_recalls\n",
    "            all_recalls.update(recalls)\n",
    "    recall_at_k = np.mean(list(all_recalls.values()))\n",
    "    return recall_at_k"
   ]
  },
  {
   "cell_type": "markdown",
   "id": "942d3c45",
   "metadata": {},
   "source": [
    "Finally, let's define define hyperparameter, import the model and begin training."
   ]
  },
  {
   "cell_type": "code",
   "execution_count": 14,
   "id": "8cce7354",
   "metadata": {},
   "outputs": [
    {
     "name": "stdout",
     "output_type": "stream",
     "text": [
      "There are 5696 unique songs in the dataset\n",
      "0.05266853932584269\n"
     ]
    }
   ],
   "source": [
    "# Training\n",
    "num_songs = num_nodes - num_playlists\n",
    "print(f\"There are {num_songs} unique songs in the dataset\")\n",
    "print (300 / num_songs)"
   ]
  },
  {
   "cell_type": "code",
   "execution_count": 15,
   "id": "9ca0790f",
   "metadata": {},
   "outputs": [],
   "source": [
    "# Training hyperparameters\n",
    "epochs = 30        # number of training epochs (we are keeping it relatively low so that this Colab runs fast)\n",
    "k = 300            # value of k for recall@k. It is important to set this to a reasonable value!\n",
    "num_layers = 3     # number of LightGCN layers (i.e., number of hops to consider during propagation)\n",
    "batch_size = 2048  # batch size. refers to the # of playlists in the batch (each will come with all of its edges)\n",
    "embedding_dim = 64 # dimension to use for the playlist/song embeddings\n",
    "save_emb_dir = 'embeddings'  # path to save multi-scale embeddings during test(). If None, will not save any embeddings\n",
    "\n",
    "# Use GPU if available\n",
    "device = torch.device('cuda' if torch.cuda.is_available() else 'cpu')"
   ]
  },
  {
   "cell_type": "code",
   "execution_count": 16,
   "id": "041761cc",
   "metadata": {},
   "outputs": [],
   "source": [
    "# Make directory to save embeddings\n",
    "if save_emb_dir is not None:\n",
    "  os.mkdir(save_emb_dir)"
   ]
  },
  {
   "cell_type": "code",
   "execution_count": 17,
   "id": "abccf9bf",
   "metadata": {},
   "outputs": [],
   "source": [
    "train_loader = DataLoader(train_ev, batch_size=batch_size, shuffle=True)\n",
    "val_loader = DataLoader(val_ev, batch_size=batch_size, shuffle=False)\n",
    "test_loader = DataLoader(test_ev, batch_size=batch_size, shuffle=False)"
   ]
  },
  {
   "cell_type": "code",
   "execution_count": 18,
   "id": "613b350f",
   "metadata": {},
   "outputs": [],
   "source": [
    "# Initialize GNN model\n",
    "gnn = GNN(embedding_dim=embedding_dim, num_nodes=data.num_nodes, num_playlists=num_playlists, num_layers=num_layers).to(device)\n",
    "\n",
    "opt = torch.optim.Adam(gnn.parameters(), lr=1e-3) # using Adam optimizer"
   ]
  },
  {
   "cell_type": "code",
   "execution_count": 19,
   "id": "bdf9b76f",
   "metadata": {},
   "outputs": [
    {
     "name": "stderr",
     "output_type": "stream",
     "text": [
      "C:\\Users\\marty\\anaconda3\\envs\\ai_learning\\lib\\site-packages\\torch_geometric\\data\\storage.py:259: UserWarning: Unable to accurately infer 'num_nodes' from the attribute set '{'edge_index'}'. Please explicitly set 'num_nodes' as an attribute of 'data' to suppress this warning\n",
      "  warnings.warn(\n"
     ]
    },
    {
     "name": "stdout",
     "output_type": "stream",
     "text": [
      "Epoch 0: train loss=0.6929642933765601, val_recall=0.06648828083537135\n",
      "Epoch 1: train loss=0.6928791577052674, val_recall=0.08865671004191876\n",
      "Epoch 2: train loss=0.6927354994547881, val_recall=0.13190728791702275\n",
      "Epoch 3: train loss=0.692490885200178, val_recall=0.19220297775854678\n",
      "Epoch 4: train loss=0.6921098966743975, val_recall=0.25416708327755383\n",
      "Epoch 5: train loss=0.6915452307687245, val_recall=0.3086568590743434\n",
      "Epoch 6: train loss=0.6907561893817916, val_recall=0.3484861839426276\n",
      "Epoch 7: train loss=0.6897018222946596, val_recall=0.3776588304296292\n",
      "Epoch 8: train loss=0.6883381155178747, val_recall=0.39536103595245464\n",
      "Epoch 9: train loss=0.6866307306947064, val_recall=0.4050363947507457\n",
      "Epoch 10: train loss=0.6845833129190024, val_recall=0.4105384559863052\n",
      "Epoch 11: train loss=0.6821252207547055\n",
      "Epoch 12: train loss=0.6792974415047782\n",
      "Epoch 13: train loss=0.6760832832161908\n",
      "Epoch 14: train loss=0.6724950924178223\n",
      "Epoch 15: train loss=0.6685025157455408, val_recall=0.4141791106348702\n",
      "Epoch 16: train loss=0.6642656762958444\n",
      "Epoch 17: train loss=0.6598207537757883\n",
      "Epoch 18: train loss=0.6549652254398266\n",
      "Epoch 19: train loss=0.6500349399481579\n",
      "Epoch 20: train loss=0.6450184176184088, val_recall=0.4139142950511053\n",
      "Epoch 21: train loss=0.6399533302037312\n",
      "Epoch 22: train loss=0.6348364130858097\n",
      "Epoch 23: train loss=0.6298474141706808\n",
      "Epoch 24: train loss=0.6249562034264826\n",
      "Epoch 25: train loss=0.6201443292478932, val_recall=0.41573257483289455\n",
      "Epoch 26: train loss=0.6156106055233729\n",
      "Epoch 27: train loss=0.6113604298803011\n",
      "Epoch 28: train loss=0.6071405867772816\n",
      "Epoch 29: train loss=0.6032047710595678\n",
      "\n",
      "Best validation recall@k: 0.41573257483289455 at epoch 25\n",
      "Test set recall@k: 0.4199230335217113\n"
     ]
    }
   ],
   "source": [
    "all_train_losses = [] # list of (epoch, training loss)\n",
    "all_val_recalls = []  # list of (epoch, validation recall@k)\n",
    "\n",
    "# Main training loop\n",
    "for epoch in range(epochs):\n",
    "    train_loss = train(gnn, train_mp, train_loader, opt, num_playlists, num_nodes, device)\n",
    "    all_train_losses.append((epoch, train_loss))\n",
    "    \n",
    "    if epoch in range(11) or epoch % 5 == 0: # perform validation for the first ~10 epochs, then every 5 epochs after that\n",
    "        val_recall = test(gnn, val_mp, val_loader, k, device, save_emb_dir, epoch)\n",
    "        all_val_recalls.append((epoch, val_recall))\n",
    "        print(f\"Epoch {epoch}: train loss={train_loss}, val_recall={val_recall}\")\n",
    "    else:\n",
    "        print(f\"Epoch {epoch}: train loss={train_loss}\")\n",
    "\n",
    "\n",
    "print()\n",
    "\n",
    "# Print best validation recall@k value\n",
    "best_val_recall = max(all_val_recalls, key = lambda x: x[1])\n",
    "print(f\"Best validation recall@k: {best_val_recall[1]} at epoch {best_val_recall[0]}\")\n",
    "\n",
    "# Print final recall@k on test set\n",
    "test_recall = test(gnn, test_mp, test_loader, k, device, None, None)\n",
    "print(f\"Test set recall@k: {test_recall}\")"
   ]
  },
  {
   "cell_type": "markdown",
   "id": "9c9be165",
   "metadata": {},
   "source": [
    "#### Results\n",
    "\n",
    "For starters, let's plot train and validation functions just to make sure the model has been efficiently training in the first place."
   ]
  },
  {
   "cell_type": "code",
   "execution_count": 20,
   "id": "e4800a88",
   "metadata": {},
   "outputs": [
    {
     "data": {
      "image/png": "[encoded data removed]",
      "text/plain": [
       "<Figure size 432x288 with 1 Axes>"
      ]
     },
     "metadata": {
      "needs_background": "light"
     },
     "output_type": "display_data"
    }
   ],
   "source": [
    "plt.plot([x[0] for x in all_train_losses], [x[1] for x in all_train_losses])\n",
    "plt.xlabel(\"Epoch\")\n",
    "plt.ylabel(\"Training loss\")\n",
    "\n",
    "plt.show()"
   ]
  },
  {
   "cell_type": "code",
   "execution_count": 21,
   "id": "02038c2e",
   "metadata": {},
   "outputs": [
    {
     "data": {
      "image/png": "[encoded data removed]",
      "text/plain": [
       "<Figure size 432x288 with 1 Axes>"
      ]
     },
     "metadata": {
      "needs_background": "light"
     },
     "output_type": "display_data"
    }
   ],
   "source": [
    "plt.plot([x[0] for x in all_val_recalls], [x[1] for x in all_val_recalls])\n",
    "plt.xlabel(\"Epoch\")\n",
    "plt.ylabel(\"Validation recall@k\")\n",
    "plt.show()"
   ]
  },
  {
   "cell_type": "markdown",
   "id": "52030641",
   "metadata": {},
   "source": [
    "Let's say, we want to visualise the embeddings of the country songs in our dataset. Since the number of dimensions in our embeddings is 64, we need to apply PCA, so it could be visualised in 2D space."
   ]
  },
  {
   "cell_type": "code",
   "execution_count": 22,
   "id": "09bcfe29",
   "metadata": {},
   "outputs": [],
   "source": [
    "pca_embs = []\n",
    "for i in range(11): # just visualizing epochs 0-10\n",
    "    embs = torch.load(os.path.join('embeddings/embeddings_epoch_' + str(i) + '.pt'), map_location=torch.device('cpu'))\n",
    "    pca = PCA(n_components=2).fit_transform(embs)\n",
    "    pca_embs.append(pca)\n",
    "    \n",
    "# Load playlist/song details\n",
    "with open('playlist_info.json', 'r') as f:\n",
    "  playlists = json.load(f)\n",
    "  playlists = {int(k): v for k, v in playlists.items()}\n",
    "\n",
    "with open('song_info.json', 'r') as f:\n",
    "  songs = json.load(f)\n",
    "  songs = {int(k): v for k, v in songs.items()}"
   ]
  },
  {
   "cell_type": "markdown",
   "id": "88d6ccd0",
   "metadata": {},
   "source": [
    "Finally, we can plot our embeddings at different epochs."
   ]
  },
  {
   "cell_type": "code",
   "execution_count": 24,
   "id": "7f6cd98e",
   "metadata": {
    "scrolled": true
   },
   "outputs": [
    {
     "data": {
      "image/png": "[encoded data removed]",
      "text/plain": [
       "<Figure size 432x288 with 1 Axes>"
      ]
     },
     "metadata": {
      "needs_background": "light"
     },
     "output_type": "display_data"
    }
   ],
   "source": [
    "# Find all playlists with \"country\" in the title\n",
    "country = []\n",
    "country_colors = [] # colors for plotting\n",
    "for id in playlists:\n",
    "    name = playlists[id]['name'].lower()\n",
    "    if 'country' in name:\n",
    "        country.append(country)\n",
    "        country_colors.append(0)\n",
    "    else:\n",
    "        country_colors.append(1)\n",
    "        \n",
    "# First set up the figure, the axis, and the plot element we want to animate\n",
    "fig, ax = plt.subplots()\n",
    "\n",
    "ax.set_xlim(( -0.5, 0.5))\n",
    "ax.set_ylim((-0.5, 0.5))\n",
    "\n",
    "colors = ['red', 'skyblue']\n",
    "from matplotlib.colors import ListedColormap\n",
    "cmap = ListedColormap(colors)\n",
    "\n",
    "\n",
    "scat = ax.scatter([], [], c=[], s=3, alpha=0.3, cmap=cmap)"
   ]
  },
  {
   "cell_type": "code",
   "execution_count": 76,
   "id": "9a142cf2",
   "metadata": {},
   "outputs": [],
   "source": [
    "#Example demo for 4th epoch\n",
    "embs = pca_embs[4]\n",
    "x, y = embs[:num_playlists, 0], embs[:num_playlists, 1]"
   ]
  },
  {
   "cell_type": "code",
   "execution_count": 77,
   "id": "c1938e58",
   "metadata": {},
   "outputs": [
    {
     "data": {
      "text/plain": [
       "<matplotlib.collections.PathCollection at 0x1f1c8165730>"
      ]
     },
     "execution_count": 77,
     "metadata": {},
     "output_type": "execute_result"
    },
    {
     "data": {
      "image/png": "[encoded data removed]",
      "text/plain": [
       "<Figure size 432x288 with 1 Axes>"
      ]
     },
     "metadata": {
      "needs_background": "light"
     },
     "output_type": "display_data"
    }
   ],
   "source": [
    "plt.scatter(x, y, c = country_colors)"
   ]
  },
  {
   "cell_type": "markdown",
   "id": "ec570996",
   "metadata": {},
   "source": [
    "We see how embeddings get more and more distinct with every epoch which compares to the ground truth (we coloured country songs using node information from the dataset)."
   ]
  }
 ],
 "metadata": {
  "kernelspec": {
   "display_name": "Python 3 (ipykernel)",
   "language": "python",
   "name": "python3"
  },
  "language_info": {
   "codemirror_mode": {
    "name": "ipython",
    "version": 3
   },
   "file_extension": ".py",
   "mimetype": "text/x-python",
   "name": "python",
   "nbconvert_exporter": "python",
   "pygments_lexer": "ipython3",
   "version": "3.9.6"
  }
 },
 "nbformat": 4,
 "nbformat_minor": 5
}
